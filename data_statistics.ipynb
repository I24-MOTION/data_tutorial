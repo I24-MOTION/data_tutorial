{
 "cells": [
  {
   "cell_type": "code",
   "execution_count": null,
   "id": "b12ec0da-8ec0-4298-8ba4-602046c19c87",
   "metadata": {},
   "outputs": [],
   "source": [
    "import os\n",
    "import ijson\n",
    "import pandas as pd"
   ]
  },
  {
   "cell_type": "code",
   "execution_count": null,
   "id": "initial_id",
   "metadata": {},
   "outputs": [],
   "source": [
    "def get_traj_stats(input_filename):\n",
    "    '''\n",
    "    This function reads the input file and calculates the travel distance, travel time and travel speed for each trajectory from INCEPTION dataset.\n",
    "    \n",
    "    :param input_filename: the input file name\n",
    "    :type input_filename: str\n",
    "    :return: the dataframe containing the trajectory statistics with columns traj_id, travel_distance, travel_time, travel_speed\n",
    "    :rtype: pandas.DataFrame\n",
    "    \n",
    "    example: get_traj_stats('/.../I24M_INCEPTION_v1/11-22-2022/637c399add50d54aa5af0cf4__post2.json')\n",
    "    '''\n",
    "    # Store stats in a list of tuples first.\n",
    "    traj_stats_list = []\n",
    "    # Read the input file by parsing the json lines iteratively (for memory conservation).\n",
    "    with open(input_filename, 'r') as input_file:\n",
    "        parser = ijson.items(input_file, 'item')\n",
    "        for doc in parser:\n",
    "            # Filter out the trajectories with direction = -1 (Westbound) and length > 0\n",
    "            if ((int(doc['direction']) == -1) & (int(doc['length']) > 0)):\n",
    "                # Calculate the travel distance, travel time, and travel speed.\n",
    "                travel_distance = - float(doc['ending_x']) + float(doc['starting_x'])\n",
    "                travel_time = float(doc['last_timestamp']) - float(doc['first_timestamp'])\n",
    "                travel_speed = travel_distance / travel_time\n",
    "                traj_stats_list.append((doc['_id']['$oid'], travel_distance, travel_time, travel_speed))\n",
    "    # Turn the list of tuples into a DataFrame\n",
    "    traj_stats = pd.DataFrame(traj_stats_list, columns=['traj_id', 'travel_distance', 'travel_time', 'travel_speed'])\n",
    "    return traj_stats"
   ]
  },
  {
   "cell_type": "code",
   "execution_count": null,
   "id": "18d7b1c10f8fb6ca",
   "metadata": {
    "collapsed": false,
    "jupyter": {
     "outputs_hidden": false
    }
   },
   "outputs": [],
   "source": [
    "inception_root = ''    # the root directory of the INCEPTION dataset\n",
    "date_dir = ''    # the date directory, like '11-22-2022'\n",
    "file_name = ''    # the file name, like '637c399add50d54aa5af0cf4__post2.json' for '11-22-2022'\n",
    "input_filename = os.path.join(inception_root, date_dir, file_name)"
   ]
  },
  {
   "cell_type": "code",
   "execution_count": null,
   "id": "fb357a80c30428e4",
   "metadata": {
    "collapsed": false,
    "jupyter": {
     "outputs_hidden": false
    }
   },
   "outputs": [],
   "source": [
    "traj_stats = get_traj_stats(input_filename)\n",
    "traj_stats"
   ]
  },
  {
   "cell_type": "code",
   "execution_count": null,
   "id": "b6823c9d-c53d-4574-b968-86f27fb481cb",
   "metadata": {},
   "outputs": [],
   "source": [
    "import matplotlib.pyplot as plt"
   ]
  },
  {
   "cell_type": "code",
   "execution_count": null,
   "id": "bbd82a3b-aca3-4d6d-b0dc-6456dcfc1ffc",
   "metadata": {},
   "outputs": [],
   "source": [
    "fig, (ax1, ax2, ax3) = plt.subplots(3, 1, figsize=(10, 8))\n",
    "\n",
    "distances = traj_stats[traj_stats['travel_distance'] < traj_stats['travel_distance'].quantile(.995)]['travel_distance']\n",
    "ax1.hist(traj_stats['travel_distance'], bins=40, \n",
    "         color='c', edgecolor='k', alpha=0.7)\n",
    "ax1.axvline(distances.mean(), color='k', linestyle='dashed', linewidth=2)\n",
    "ax1.set_xlabel('trajectory distance (ft)')\n",
    "\n",
    "times = traj_stats[traj_stats['travel_time'] < traj_stats['travel_time'].quantile(.995)]['travel_time']\n",
    "ax2.hist(times, bins=40, \n",
    "         color='m', edgecolor='k', alpha=0.7)\n",
    "ax2.axvline(times.mean(), color='k', linestyle='dashed', linewidth=2)\n",
    "ax2.set_xlabel('trajectory duration (s)')\n",
    "\n",
    "speeds = traj_stats[traj_stats['travel_speed'] < traj_stats['travel_speed'].quantile(.995)]['travel_speed']\n",
    "ax3.hist(speeds, bins=40, color='y', edgecolor='k', alpha=0.7)\n",
    "ax3.axvline(traj_stats['travel_speed'].mean(), \n",
    "            color='k', linestyle='dashed', linewidth=2)\n",
    "ax3.set_xlabel('trajectory speed (ft/s)')\n",
    "\n",
    "plt.tight_layout()\n",
    "plt.show()"
   ]
  },
  {
   "cell_type": "code",
   "execution_count": null,
   "id": "bed86950-fd1a-47af-997e-8133de65fac2",
   "metadata": {
    "collapsed": false,
    "jupyter": {
     "outputs_hidden": false
    }
   },
   "outputs": [],
   "source": [
    "# Save the DataFrame of trajectory stats to a csv file as needed.\n",
    "traj_stats.to_csv('temp.csv', index=False)    # Fill in the filename."
   ]
  }
 ],
 "metadata": {
  "kernelspec": {
   "display_name": "Python 3 (ipykernel)",
   "language": "python",
   "name": "python3"
  },
  "language_info": {
   "codemirror_mode": {
    "name": "ipython",
    "version": 3
   },
   "file_extension": ".py",
   "mimetype": "text/x-python",
   "name": "python",
   "nbconvert_exporter": "python",
   "pygments_lexer": "ipython3",
   "version": "3.10.13"
  }
 },
 "nbformat": 4,
 "nbformat_minor": 5
}
