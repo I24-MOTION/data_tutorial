{
 "cells": [
  {
   "cell_type": "code",
   "execution_count": null,
   "id": "initial_id",
   "metadata": {
    "collapsed": true
   },
   "outputs": [],
   "source": [
    "import os\n",
    "import ijson\n",
    "import pandas as pd\n",
    "\n",
    "def get_traj_stats(input_filename):\n",
    "    '''\n",
    "    This function reads the input file and calculates the travel distance, travel time and travel speed for each trajectory from INCEPTION dataset.\n",
    "    \n",
    "    :param input_filename: the input file name\n",
    "    :type input_filename: str\n",
    "    :return: the dataframe containing the trajectory statistics with columns traj_id, travel_distance, travel_time, travel_speed\n",
    "    :rtype: pandas.DataFrame\n",
    "    \n",
    "    example: get_traj_stats('/.../I24M_INCEPTION_v1/11-22-2022/637c399add50d54aa5af0cf4__post2.json')\n",
    "    '''\n",
    "    # to create a dataframe to store the trajectory statistics\n",
    "    # traj_stats = pd.DataFrame()\n",
    "    traj_stats_list = []\n",
    "    # to read the input file and parse the json objects\n",
    "    with open(input_filename, 'r') as input_file:\n",
    "        parser = ijson.items(input_file, 'item')\n",
    "        for doc in parser:\n",
    "            # to filter out the trajectories with direction = -1 (Westbound) and length > 0\n",
    "            if ((int(doc['direction']) == -1) & (int(doc['length']) > 0)):\n",
    "                # to calculate the travel distance, travel time and travel speed\n",
    "                travel_distance = - float(doc['ending_x']) + float(doc['starting_x'])\n",
    "                travel_time = float(doc['last_timestamp']) - float(doc['first_timestamp'])\n",
    "                travel_speed = travel_distance / travel_time\n",
    "                traj_stats_single = pd.DataFrame({'traj_id': doc['_id']['$oid'],\n",
    "                                                  'travel_distance': travel_distance, \n",
    "                                                  'travel_time': travel_time, \n",
    "                                                  'travel_speed': travel_speed}, index=[0])\n",
    "                traj_stats_list.append(traj_stats_single)\n",
    "        # to concatenate the list of dataframes into a single dataframe\n",
    "        traj_stats = pd.concat(traj_stats_list, ignore_index=True)\n",
    "        return traj_stats"
   ]
  },
  {
   "cell_type": "code",
   "execution_count": null,
   "outputs": [],
   "source": [
    "inception_root = '' # the root directory of the INCEPTION dataset\n",
    "date_dir = '' # the date directory, like '11-22-2022'\n",
    "file_name =  '' # the file name, like '637c399add50d54aa5af0cf4__post2.json' for ''11-22-2022'\n",
    "input_filename = os.path.join(inception_root, date_dir, file_name)"
   ],
   "metadata": {
    "collapsed": false
   },
   "id": "18d7b1c10f8fb6ca"
  },
  {
   "cell_type": "code",
   "execution_count": null,
   "outputs": [],
   "source": [
    "traj_stats_table = get_traj_stats(input_filename)\n",
    "# users can save the pd.DataFrame to a csv file as needed\n",
    "traj_stats_table.to_csv('', index=False)"
   ],
   "metadata": {
    "collapsed": false
   },
   "id": "fb357a80c30428e4"
  },
  {
   "cell_type": "markdown",
   "source": [],
   "metadata": {
    "collapsed": false
   },
   "id": "320d4693f9f69c15"
  }
 ],
 "metadata": {
  "kernelspec": {
   "display_name": "Python 3",
   "language": "python",
   "name": "python3"
  },
  "language_info": {
   "codemirror_mode": {
    "name": "ipython",
    "version": 2
   },
   "file_extension": ".py",
   "mimetype": "text/x-python",
   "name": "python",
   "nbconvert_exporter": "python",
   "pygments_lexer": "ipython2",
   "version": "2.7.6"
  }
 },
 "nbformat": 4,
 "nbformat_minor": 5
}
