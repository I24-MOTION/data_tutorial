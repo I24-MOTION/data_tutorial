{
 "cells": [
  {
   "attachments": {},
   "cell_type": "markdown",
   "metadata": {},
   "source": [
    "# An introduction to I-24 MOTION trajectory data"
   ]
  },
  {
   "attachments": {},
   "cell_type": "markdown",
   "metadata": {},
   "source": [
    "## Useful links\n",
    "- I24 MOTION website: https://i24motion.org/\n",
    "- Request for data access: https://i24motion.org/data\n",
    "- Data documentation: https://github.com/I24-MOTION/I24M_documentation\n",
    "- VT tools: https://github.com/I24-MOTION/VT_tools \n",
    "- Improvement tracker: https://github.com/I24-MOTION/I24M_improvement_tracker"
   ]
  },
  {
   "attachments": {},
   "cell_type": "markdown",
   "metadata": {},
   "source": [
    "## Directory structure\n",
    "```\n",
    "├── data_demo\n",
    "│   ├── INCEPTION.22-11-22.tutorial.json\n",
    "├── I24_tutorial_code\n",
    "│   ├── intro_trajectory_data.ipynb\n",
    "```"
   ]
  },
  {
   "attachments": {},
   "cell_type": "markdown",
   "metadata": {},
   "source": [
    "## This tutorial will cover:\n",
    "- Load JSON file using an iterative JSON parser\n",
    "- Trajectory data schema\n",
    "- Compute derivative quantities (e.g., speed)\n",
    "- Visualize a trajectory\n",
    "- Plot a time-space diagram"
   ]
  },
  {
   "attachments": {},
   "cell_type": "markdown",
   "metadata": {},
   "source": [
    "## Import packages"
   ]
  },
  {
   "cell_type": "code",
   "execution_count": null,
   "metadata": {},
   "outputs": [],
   "source": [
    "import ijson\n",
    "import os\n",
    "import numpy as np\n",
    "import matplotlib.pyplot as plt\n",
    "from matplotlib.colors import LinearSegmentedColormap\n",
    "import matplotlib.ticker as mticker\n",
    "from mpl_toolkits.axes_grid1 import make_axes_locatable\n",
    "import datetime"
   ]
  },
  {
   "attachments": {},
   "cell_type": "markdown",
   "metadata": {},
   "source": [
    "### Read a JSON file using an iterative JSON parser"
   ]
  },
  {
   "cell_type": "code",
   "execution_count": null,
   "metadata": {},
   "outputs": [],
   "source": [
    "# This data file contains approximately 41,000 trajectories\n",
    "input_filename = \"INCEPTION.22-11-22.tutorial.json\"\n",
    "file_path = os.path.join(\"../data_demo/\", input_filename)\n",
    "\n",
    "i = 0\n",
    "# Select one trajectory from westbound that is more than 10 sec long\n",
    "with open(file_path, 'r') as input_file:\n",
    "    parser = ijson.items(input_file, 'item', use_float=True)\n",
    "    for record in parser:\n",
    "        if record[\"direction\"] == -1 and (record[\"last_timestamp\"] - record[\"first_timestamp\"] > 10):\n",
    "            print(\"Found a trajectory example\")\n",
    "            break"
   ]
  },
  {
   "cell_type": "code",
   "execution_count": null,
   "metadata": {},
   "outputs": [],
   "source": [
    "print(\"TRAJECTORY KEYS:\", list(record.keys()))\n",
    "print(\"\\n\\n\")\n",
    "for key, val in record.items():\n",
    "    if isinstance(val, list):\n",
    "        print(f\"{key}:   {val[:min(len(val), 20)]}\")\n",
    "    else:\n",
    "        print(f\"{key}:   {val}\")"
   ]
  },
  {
   "attachments": {},
   "cell_type": "markdown",
   "metadata": {},
   "source": [
    "### Compute the derivative quantities"
   ]
  },
  {
   "cell_type": "code",
   "execution_count": null,
   "metadata": {},
   "outputs": [],
   "source": [
    "# Compute the longitudinal speed using numerical differentiation of the x_position, \n",
    "#   i.e., v = dx/dt. np.diff() computes the first-order numerical derivative.\n",
    "# Multiply by record[\"direction\"] to indicate the direction, \n",
    "#   i.e., negative speed means traveling westbound, and positive speed means traveling eastbound.\n",
    "speed = np.diff(record[\"x_position\"])/np.diff(record[\"timestamp\"])*record[\"direction\"]\n",
    "\n",
    "# Speed array is truncated by one after the numerical differentiation np.diff(). \n",
    "# Append the first item to the array such that the speed array is the same length as the x_position array.\n",
    "speed = np.append(speed[0], speed) \n",
    "\n",
    "# Convert unit from ft/sec to mph\n",
    "speed *= 0.681818\n",
    "\n",
    "# Print the first 10 records of speed\n",
    "print(f\"Speed (mph): {speed[:10]}\")"
   ]
  },
  {
   "cell_type": "code",
   "execution_count": null,
   "metadata": {},
   "outputs": [],
   "source": [
    "# Similarly, compute the 2nd-order numerical differentiation of the x_position to obtain acceleration. \n",
    "# np.diff(record[\"x_position\"], n=2) means the second order differentation of x_position.\n",
    "# The unit for acceleration is ft/sec^2.\n",
    "accel = np.diff(record[\"x_position\"], n=2)/(np.diff(record[\"timestamp\"][:-1])**2)*record[\"direction\"]\n",
    "print(f\"Acceleration (ft/sec^2): {accel[:10]}\")"
   ]
  },
  {
   "attachments": {},
   "cell_type": "markdown",
   "metadata": {},
   "source": [
    "### Visualize a trajectory"
   ]
  },
  {
   "cell_type": "code",
   "execution_count": null,
   "metadata": {},
   "outputs": [],
   "source": [
    "import time"
   ]
  },
  {
   "cell_type": "code",
   "execution_count": null,
   "metadata": {},
   "outputs": [],
   "source": [
    "# Set up the plot\n",
    "plt.rc('font', family='serif', size=14)\n",
    "fig, ax = plt.subplots(figsize=(10,3))\n",
    "divider = make_axes_locatable(ax)\n",
    "cax = divider.append_axes(\"right\", size=\"3%\", pad=0.05)\n",
    "\n",
    "# Define the color range\n",
    "jet = plt.cm.jet\n",
    "colors = [jet(x) for x in np.linspace(1, 0.5, 256)]\n",
    "green_to_red = LinearSegmentedColormap.from_list('GreenToRed', colors, N=256)\n",
    "\n",
    "# -------------------------------------------------------------------\n",
    "# Plot the position (y-axis) vs. time (x-axis), colored by the speed.\n",
    "# Position in ft is converted to mile-marker by dividing 5280.\n",
    "trajectory_times = record[\"timestamp\"]\n",
    "trajectory_xvals = np.array(record[\"x_position\"])/5280\n",
    "im = ax.scatter(trajectory_times, trajectory_xvals, c=speed, cmap=green_to_red, vmin=0, vmax=80, marker ='s', s=5)\n",
    "plt.colorbar(im, cax=cax).set_label('Speed (mph)', rotation=90, labelpad=20)\n",
    "ax.set_xlabel(\"Time\")\n",
    "ax.set_ylabel(\"Mile marker\")\n",
    "# -------------------------------------------------------------------\n",
    "\n",
    "# Update x-axis time to readable format\n",
    "ticks_loc = ax.get_xticks().tolist()\n",
    "ax.xaxis.set_major_locator(mticker.FixedLocator(ticks_loc))\n",
    "x_datetime = [datetime.datetime.fromtimestamp(ts) for ts in ticks_loc]\n",
    "labels = [d.strftime('%H:%M:%S') for d in x_datetime]\n",
    "ax.set_xticklabels(labels, rotation=45)\n",
    "\n",
    "# Invert vertically\n",
    "ax.invert_yaxis()\n"
   ]
  },
  {
   "attachments": {},
   "cell_type": "markdown",
   "metadata": {},
   "source": [
    "### Plot a time-space diagram (approx. 8:20-8:23 AM, Westbound)"
   ]
  },
  {
   "cell_type": "code",
   "execution_count": null,
   "metadata": {},
   "outputs": [],
   "source": [
    "# Set up the plot\n",
    "plt.rc('font', family='serif', size=14)\n",
    "fig, ax = plt.subplots(figsize=(10,3))\n",
    "divider = make_axes_locatable(ax)\n",
    "cax = divider.append_axes(\"right\", size=\"3%\", pad=0.05)\n",
    "\n",
    "# Define the color range\n",
    "jet = plt.cm.jet\n",
    "colors = [jet(x) for x in np.linspace(1, 0.5, 256)]\n",
    "green_to_red = LinearSegmentedColormap.from_list('GreenToRed', colors, N=256)\n",
    "\n",
    "# -------------------------------------------------------------------\n",
    "# Iterate over each trajectory record across the file, compute the speed, and plot the position and speed simultaneously\n",
    "# ijson allows us to read and plot each trajectory one by one instead of loading them all into the memory\n",
    "t = time.time()\n",
    "i = 0\n",
    "with open(file_path, 'r') as input_file:\n",
    "    parser = ijson.items(input_file, 'item', use_float=True)\n",
    "    for record in parser:  \n",
    "        # select westbound trajectories to plot\n",
    "        if record[\"direction\"] == -1: \n",
    "            position = np.array(record[\"x_position\"]) / 5280\n",
    "            speed = np.diff(record[\"x_position\"]) / np.diff(record[\"timestamp\"])\n",
    "            speed = np.append(speed[0], speed)\n",
    "            speed = -speed * 0.681818 # convert unit, and\n",
    "            im = ax.scatter(record[\"timestamp\"], position, c=speed, cmap=green_to_red, vmin=0, vmax=80, s=0.1)\n",
    "            i += 1\n",
    "            if i % 1000 == 0:\n",
    "                print(f\"Plotted {i} trajectories\")\n",
    "            if i > 5000:\n",
    "                break\n",
    "print(f\"Elapsed: {time.time() - t}\")\n",
    "# -------------------------------------------------------------------\n",
    "\n",
    "# Update colorbar and axes labels\n",
    "plt.colorbar(im, cax=cax).set_label('Speed (mph)', rotation=90, labelpad=20)\n",
    "ax.set_xlabel(\"Time\")\n",
    "ax.set_ylabel(\"Mile marker\")\n",
    "\n",
    "# Update x-axis time to readable format\n",
    "ticks_loc = ax.get_xticks().tolist()\n",
    "ax.xaxis.set_major_locator(mticker.FixedLocator(ticks_loc))\n",
    "x_datetime = [datetime.datetime.fromtimestamp(ts) for ts in ticks_loc]\n",
    "labels = [d.strftime('%H:%M:%S') for d in x_datetime]\n",
    "ax.set_xticklabels(labels, rotation=45)\n",
    "\n",
    "# Invert vertically\n",
    "ax.invert_yaxis()\n",
    "plt.show()"
   ]
  },
  {
   "attachments": {},
   "cell_type": "markdown",
   "metadata": {},
   "source": [
    "#### In order to plot these additional data, you will need to download the appropriate file from i24motion.org/data using your account credentials. Download it to the same directory where you found `INCEPTION.22-11-22.tutorial.json`, or else change the path location."
   ]
  },
  {
   "cell_type": "code",
   "execution_count": null,
   "metadata": {},
   "outputs": [],
   "source": []
  },
  {
   "attachments": {},
   "cell_type": "markdown",
   "metadata": {},
   "source": []
  }
 ],
 "metadata": {
  "kernelspec": {
   "display_name": "Python 3 (ipykernel)",
   "language": "python",
   "name": "python3"
  },
  "language_info": {
   "codemirror_mode": {
    "name": "ipython",
    "version": 3
   },
   "file_extension": ".py",
   "mimetype": "text/x-python",
   "name": "python",
   "nbconvert_exporter": "python",
   "pygments_lexer": "ipython3",
   "version": "3.10.13"
  }
 },
 "nbformat": 4,
 "nbformat_minor": 4
}
