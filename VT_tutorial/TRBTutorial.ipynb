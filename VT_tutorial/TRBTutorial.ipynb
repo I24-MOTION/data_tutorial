{
 "cells": [
  {
   "cell_type": "markdown",
   "id": "98bb3b69",
   "metadata": {},
   "source": [
    "# I-24 MOTION Tutorial\n",
    "# Virtual trajectories for I-24 MOTION: data and tools\n",
    "\n",
    "In this session, the tutorial will guide you through:\n",
    " 1. how to generate macroscopic mean speed from the raw data?\n",
    "2. how to smooth and interpolate the macroscopic data based on Adaptive Smoothing Method?\n",
    "3. how to use the macroscopic speed field to generate virtual trajectories?\n",
    "\n",
    "All the details of this session can be found at our Virtual Trajectory paper. \n",
    "\n",
    "***Ji, J., Wang, Y., Gloudemans, D., Zachár, G., Barbour, W., & Work, D. B. (2023). Virtual trajectories for I-24 MOTION: data and tools. arXiv preprint arXiv:2311.10888.***\n",
    "\n",
    "<img src=\"figures/4lane_w_vts.png\" width=\"1800\"/>"
   ]
  },
  {
   "cell_type": "markdown",
   "id": "ef82b35c44c977d1",
   "metadata": {
    "collapsed": false,
    "jupyter": {
     "outputs_hidden": false
    }
   },
   "source": [
    "# Part 1: how to generate the macroscopic mean speed field?\n",
    "Macroscopic mean speed field refers to the aggregated speed of the time and space based on trajectory data.\n",
    "Data for test and tutorial here is actually a 10-minute data extracted from Nov 22, 2022. "
   ]
  },
  {
   "cell_type": "code",
   "execution_count": null,
   "id": "7198c992",
   "metadata": {
    "ExecuteTime": {
     "end_time": "2024-01-10T15:08:55.530670Z",
     "start_time": "2024-01-10T15:08:18.046726Z"
    }
   },
   "outputs": [],
   "source": [
    "from macro_data_processing import get_speed_mean_field\n",
    "from macro_data_processing import convert_to_cst_unix\n",
    "import warnings\n",
    "import time\n",
    "\n",
    "starttime = convert_to_cst_unix('2022-11-22 07:20')\n",
    "endtime = convert_to_cst_unix('2022-11-22 07:30')\n",
    "input_filename = \"../../data_demo/INCEPTION.22-11-22.tutorial.json\"\n",
    "\n",
    "# dx and dt are the size of edie's box\n",
    "dx = 0.02\n",
    "dt = 4\n",
    "lane_number = 1\n",
    "t0 = time.time()\n",
    "\n",
    "# Ignore an expected divide by zero error\n",
    "with warnings.catch_warnings():\n",
    "    warnings.simplefilter('ignore')\n",
    "    speed_raw = get_speed_mean_field(input_filename, dx, dt, starttime, endtime, lane_number)\n",
    "print(f\"Speed field compute time: {time.time() - t0}s\")\n",
    "# speed_raw here is a DataFrame, with 3 columns, saying t, x, speed.\n",
    "# t refers to the time index and x refers to the space index.\n",
    "# index here means the number of the time or space of the space-time state by the dt or dx\n",
    "# real time = t*dt + starttime\n",
    "# real milemarker = x*dx + min_milemarker (58.7 in our case)"
   ]
  },
  {
   "cell_type": "markdown",
   "id": "8e5e8e4f120b8013",
   "metadata": {
    "collapsed": false,
    "jupyter": {
     "outputs_hidden": false
    }
   },
   "source": [
    "To understand how the macroscopic mean speed field is calculated using Edie's definition and why the diamond/non-rectangular cell is more recommended, readers can go to the following references for more details.\n",
    "\n",
    "### References\n",
    "[1] L. C. Edie et al., Discussion of traffic stream measurements and definitions. Port of New York Authority New York, 1963\n",
    "\n",
    "[2] Z. He, Y. Lv, L. Lu, and W. Guan, Constructing spatiotemporal speed contour diagrams: using rectangular or non-rectangular parallelogram cells? Transportmetrica B: transport dynamics, 2017\n",
    "\n",
    "[3] Treiber, M. Traffic dynamics and simulation, Class Slides: https://www.mtreiber.de/Vkmod/index.html, Lecture 1, 2023\n",
    "\n",
    "<img src=\"figures/diamond_edie.png\" alt=\"Diamond Edie\" width=\"2000\"/>"
   ]
  },
  {
   "cell_type": "code",
   "execution_count": null,
   "id": "89414ac3",
   "metadata": {
    "ExecuteTime": {
     "end_time": "2024-01-10T15:09:18.753404Z",
     "start_time": "2024-01-10T15:09:18.747967Z"
    }
   },
   "outputs": [],
   "source": [
    "from visualization import visualize_heatmap"
   ]
  },
  {
   "cell_type": "code",
   "execution_count": null,
   "id": "0edc1278",
   "metadata": {
    "ExecuteTime": {
     "end_time": "2024-01-10T15:09:19.943374Z",
     "start_time": "2024-01-10T15:09:19.407752Z"
    }
   },
   "outputs": [],
   "source": [
    "# Visualize the raw speed field.\n",
    "visualize_heatmap(speed_raw, starttime, endtime, dx, dt, fig_width=16, fig_height=8, minor_xtick = int(300/dt))"
   ]
  },
  {
   "cell_type": "markdown",
   "id": "fdb9be7a",
   "metadata": {},
   "source": [
    "# Part 2: how to smooth and interpolate the macroscopic data based on ASM?"
   ]
  },
  {
   "cell_type": "markdown",
   "id": "26186b32152e5460",
   "metadata": {
    "collapsed": false,
    "jupyter": {
     "outputs_hidden": false
    }
   },
   "source": [
    "### ASM (adaptive smoothing method)\n",
    "M. Treiber, A. Kesting, and R. E. Wilson, Reconstructing the traffic state by fusion of heterogeneous data, Computer-Aided Civil and Infrastructure Engineering, vol. 26, no. 6, pp. 408–419, 2011.\n",
    "\n",
    "<img src=\"figures/ASM.png\" alt=\"ASM\" width=\"1000\"/>"
   ]
  },
  {
   "cell_type": "code",
   "execution_count": null,
   "id": "5734bfa09f744f24",
   "metadata": {
    "ExecuteTime": {
     "end_time": "2024-01-10T15:10:12.305946Z",
     "start_time": "2024-01-10T15:09:26.176415Z"
    },
    "collapsed": false,
    "jupyter": {
     "outputs_hidden": false
    }
   },
   "outputs": [],
   "source": [
    "# Import the speed field smoother and run it on the raw speed field.\n",
    "from ASM import smooth_raw_data\n",
    "t0 = time.time()\n",
    "smooth_speed = smooth_raw_data(speed_raw, dx, dt)\n",
    "print(f\"Smoothing compute time: {time.time() - t0}s\")"
   ]
  },
  {
   "cell_type": "code",
   "execution_count": null,
   "id": "36fc022d",
   "metadata": {
    "ExecuteTime": {
     "end_time": "2024-01-10T15:22:26.720440Z",
     "start_time": "2024-01-10T15:22:26.492839Z"
    }
   },
   "outputs": [],
   "source": [
    "# Visualize the smoothed speed field.\n",
    "visualize_heatmap(smooth_speed, starttime, endtime, dx, dt, fig_width=16, fig_height=8, minor_xtick=int(300/dt))"
   ]
  },
  {
   "cell_type": "markdown",
   "id": "2a04a8582a547d97",
   "metadata": {
    "collapsed": false,
    "jupyter": {
     "outputs_hidden": false
    }
   },
   "source": [
    "# Part 3: how to use the macroscopic speed field to generate VTs?"
   ]
  },
  {
   "cell_type": "markdown",
   "id": "55c5823349d1c641",
   "metadata": {
    "collapsed": false,
    "jupyter": {
     "outputs_hidden": false
    }
   },
   "source": [
    "#### A standard approach to generate trajectories from a macroscopic speed field is to calculate the position p(t) of a vehicle assuming the velocity dynamics of the vehicle are computed as follows:\n",
    "<img src=\"figures/VTEQ.png\" alt=\"ASM\" width=\"500\"/>"
   ]
  },
  {
   "cell_type": "code",
   "execution_count": null,
   "id": "3d001eec",
   "metadata": {
    "ExecuteTime": {
     "end_time": "2024-01-10T15:22:32.020186Z",
     "start_time": "2024-01-10T15:22:28.937105Z"
    }
   },
   "outputs": [],
   "source": [
    "# Import and use the function for generating a virtual trajectory through the smooth speed field.\n",
    "from VT import gen_VT_k\n",
    "vt = gen_VT_k(smooth_speed)\n",
    "# Note: the code for this function will be revised soon"
   ]
  },
  {
   "cell_type": "code",
   "execution_count": null,
   "id": "e0485535",
   "metadata": {
    "ExecuteTime": {
     "end_time": "2024-01-10T15:22:32.231318Z",
     "start_time": "2024-01-10T15:22:32.022233Z"
    }
   },
   "outputs": [],
   "source": [
    "# Visualize the speed field with the virtual trajectory on top\n",
    "from visualization import visualize_heatmap_vt\n",
    "visualize_heatmap_vt(smooth_speed, vt, starttime, endtime, dx, dt, fig_width=16, fig_height=8, minor_xtick=int(300/dt))"
   ]
  },
  {
   "cell_type": "markdown",
   "id": "eabe59655812fad3",
   "metadata": {
    "collapsed": false,
    "jupyter": {
     "outputs_hidden": false
    }
   },
   "source": [
    "More data and analysis... ***Ji, J., Wang, Y., Gloudemans, D., Zachár, G., Barbour, W., & Work, D. B. (2023). Virtual trajectories for I-24 MOTION: data and tools. arXiv preprint arXiv:2311.10888.***\n",
    "<img src=\"figures/4lane_w_vts.png\" width=\"1800\"/>"
   ]
  }
 ],
 "metadata": {
  "kernelspec": {
   "display_name": "Python 3 (ipykernel)",
   "language": "python",
   "name": "python3"
  },
  "language_info": {
   "codemirror_mode": {
    "name": "ipython",
    "version": 3
   },
   "file_extension": ".py",
   "mimetype": "text/x-python",
   "name": "python",
   "nbconvert_exporter": "python",
   "pygments_lexer": "ipython3",
   "version": "3.10.13"
  }
 },
 "nbformat": 4,
 "nbformat_minor": 5
}
